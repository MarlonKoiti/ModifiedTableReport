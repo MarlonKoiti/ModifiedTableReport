{
 "cells": [
  {
   "cell_type": "markdown",
   "metadata": {
    "application/vnd.databricks.v1+cell": {
     "cellMetadata": {
      "byteLimit": 2048000,
      "rowLimit": 10000
     },
     "inputWidgets": {},
     "nuid": "ff5938e9-0cb1-435e-a848-6d002f932581",
     "showTitle": false,
     "title": ""
    }
   },
   "source": [
    "#Importação"
   ]
  },
  {
   "cell_type": "code",
   "execution_count": 0,
   "metadata": {
    "application/vnd.databricks.v1+cell": {
     "cellMetadata": {
      "byteLimit": 2048000,
      "rowLimit": 10000
     },
     "inputWidgets": {},
     "nuid": "45f2efd6-a92e-44d4-a891-2a4f1ed5bcc0",
     "showTitle": false,
     "title": ""
    }
   },
   "outputs": [],
   "source": [
    "import pandas as pd\n",
    "import pyspark\n",
    "from pyspark.sql.functions import lit\n",
    "from pyspark.sql.types import DateType, IntegerType, StringType, DoubleType\n",
    "from datetime import datetime\n"
   ]
  },
  {
   "cell_type": "markdown",
   "metadata": {
    "application/vnd.databricks.v1+cell": {
     "cellMetadata": {
      "byteLimit": 2048000,
      "rowLimit": 10000
     },
     "inputWidgets": {},
     "nuid": "27747b77-3ea2-48fc-b2e7-650172173839",
     "showTitle": false,
     "title": ""
    }
   },
   "source": [
    "#Bancos"
   ]
  },
  {
   "cell_type": "code",
   "execution_count": 0,
   "metadata": {
    "application/vnd.databricks.v1+cell": {
     "cellMetadata": {
      "byteLimit": 2048000,
      "rowLimit": 10000
     },
     "inputWidgets": {},
     "nuid": "d623aa9c-306f-4e73-a1cb-69a9e1cef20a",
     "showTitle": false,
     "title": ""
    }
   },
   "outputs": [],
   "source": [
    "## conferir \n",
    "lista_database = [''] "
   ]
  },
  {
   "cell_type": "markdown",
   "metadata": {
    "application/vnd.databricks.v1+cell": {
     "cellMetadata": {
      "byteLimit": 2048000,
      "rowLimit": 10000
     },
     "inputWidgets": {},
     "nuid": "12cf3afe-fa49-45f4-9284-14dfdf713d61",
     "showTitle": false,
     "title": ""
    }
   },
   "source": [
    "# Geração de dados do relatório"
   ]
  },
  {
   "cell_type": "code",
   "execution_count": 0,
   "metadata": {
    "application/vnd.databricks.v1+cell": {
     "cellMetadata": {
      "byteLimit": 2048000,
      "rowLimit": 10000
     },
     "inputWidgets": {},
     "nuid": "d0b9a869-4ee4-4a3f-a6cc-b5c61f4ef90f",
     "showTitle": false,
     "title": ""
    }
   },
   "outputs": [
    {
     "output_type": "stream",
     "name": "stdout",
     "output_type": "stream",
     "text": [
      "1º Ok / dbsigadl.aluno  / criação\n2º Ok / dbsigadl.aluno_documentacao  / union\n2º Ok / dbsigadl.aproveitamento  / union\n2º Ok / dbsigadl.banco  / union\n2º Ok / dbsigadl.bi_st_periodo_letivo_ref  / union\n2º Ok / dbsigadl.bloco  / union\n2º Error dbsigadl candidato\n2º Ok / dbsigadl.candidato_status_classificacao  / union\n2º Ok / dbsigadl.candidatoxcodigo_promocional  / union\n2º Ok / dbsigadl.cidade  / union\n2º Ok / dbsigadl.codigo_promocional  / union\n2º Ok / dbsigadl.complemento  / union\n2º Ok / dbsigadl.complementoxparcela  / union\n2º Ok / dbsigadl.componente_curricular  / union\n2º Ok / dbsigadl.contato  / union\n2º Ok / dbsigadl.cor_raca  / union\n2º Ok / dbsigadl.curriculo  / union\n2º Ok / dbsigadl.curriculo_composicao  / union\n2º Ok / dbsigadl.curso  / union\n2º Ok / dbsigadl.doc  / union\n2º Ok / dbsigadl.documentacao  / union\n2º Ok / dbsigadl.estado  / union\n2º Ok / dbsigadl.evento  / union\n2º Ok / dbsigadl.exames_avaliacoes_desempenho_discente  / union\n2º Ok / dbsigadl.forma_ingresso  / union\n2º Ok / dbsigadl.funcionario  / union\n2º Ok / dbsigadl.funcionario_titulacao  / union\n2º Ok / dbsigadl.habilitacao  / union\n2º Ok / dbsigadl.habilitacao_tipo  / union\n2º Ok / dbsigadl.historico_interno  / union\n2º Ok / dbsigadl.instituicao_ensino  / union\n2º Ok / dbsigadl.instituicao_ensino_tipo  / union\n2º Ok / dbsigadl.lancamento  / union\n2º Ok / dbsigadl.lancamentoxdoc  / union\n2º Ok / dbsigadl.matricula  / union\n2º Ok / dbsigadl.matricula_composicao  / union\n2º Ok / dbsigadl.necessidade_especial  / union\n2º Ok / dbsigadl.nivel_ensino  / union\n2º Ok / dbsigadl.ocorrencia  / union\n2º Ok / dbsigadl.ocorrencia_tipo  / union\n2º Ok / dbsigadl.pais  / union\n2º Ok / dbsigadl.parametro_siga  / union\n2º Ok / dbsigadl.periodo_letivo  / union\n2º Ok / dbsigadl.pessoa  / union\n2º Ok / dbsigadl.plano_pagamento  / union\n2º Ok / dbsigadl.plano_pagamento_periodo  / union\n2º Ok / dbsigadl.polo  / union\n2º Ok / dbsigadl.ponto_inscricao  / union\n2º Ok / dbsigadl.processo_selecao  / union\n2º Ok / dbsigadl.processo_selecaoxdata_prova  / union\n2º Ok / dbsigadl.requerimento  / union\n2º Ok / dbsigadl.requerimento_movimento  / union\n2º Ok / dbsigadl.requerimento_status  / union\n2º Ok / dbsigadl.requerimento_tipo  / union\n2º Ok / dbsigadl.requerimento_tipo_etapa  / union\n2º Ok / dbsigadl.status_matricula  / union\n2º Ok / dbsigadl.status_vinculo  / union\n2º Ok / dbsigadl.titulacao  / union\n2º Ok / dbsigadl.turma  / union\n2º Ok / dbsigadl.turma_professor  / union\n2º Ok / dbsigadl.turmaxcomponente  / union\n2º Ok / dbsigadl.turno  / union\n2º Ok / dbsigadl.unidade  / union\n2º Ok / dbsigadl.usuario  / union\n2º Ok / dbsigadl.vinculo_academico  / union\n2º Error  ctrl_carga_talend_temp\nFim da carga.\n"
     ]
    },
    {
     "output_type": "display_data",
     "data": {
      "text/html": [
       "<div>\n",
       "<style scoped>\n",
       "    .dataframe tbody tr th:only-of-type {\n",
       "        vertical-align: middle;\n",
       "    }\n",
       "\n",
       "    .dataframe tbody tr th {\n",
       "        vertical-align: top;\n",
       "    }\n",
       "\n",
       "    .dataframe thead th {\n",
       "        text-align: right;\n",
       "    }\n",
       "</style>\n",
       "<table border=\"1\" class=\"dataframe\">\n",
       "  <thead>\n",
       "    <tr style=\"text-align: right;\">\n",
       "      <th></th>\n",
       "      <th>name</th>\n",
       "      <th>createdAt</th>\n",
       "      <th>lastModified</th>\n",
       "      <th>sizeInBytes</th>\n",
       "      <th>dataExec</th>\n",
       "    </tr>\n",
       "  </thead>\n",
       "  <tbody>\n",
       "    <tr>\n",
       "      <th>0</th>\n",
       "      <td>spark_catalog.dbsigadl.bi_st_periodo_letivo_ref</td>\n",
       "      <td>2023-03-30 09:21:35.566</td>\n",
       "      <td>2023-03-30 09:22:05</td>\n",
       "      <td>39823</td>\n",
       "      <td>30/03/2023</td>\n",
       "    </tr>\n",
       "    <tr>\n",
       "      <th>1</th>\n",
       "      <td>spark_catalog.dbsigadl.turma_professor</td>\n",
       "      <td>2023-03-30 09:18:46.829</td>\n",
       "      <td>2023-03-30 09:19:15</td>\n",
       "      <td>2466471</td>\n",
       "      <td>30/03/2023</td>\n",
       "    </tr>\n",
       "    <tr>\n",
       "      <th>2</th>\n",
       "      <td>spark_catalog.dbsigadl.turmaxcomponente</td>\n",
       "      <td>2023-03-30 09:06:03.289</td>\n",
       "      <td>2023-03-30 09:06:36</td>\n",
       "      <td>9404427</td>\n",
       "      <td>30/03/2023</td>\n",
       "    </tr>\n",
       "    <tr>\n",
       "      <th>3</th>\n",
       "      <td>spark_catalog.dbsigadl.titulacao</td>\n",
       "      <td>2023-03-30 09:03:45.189</td>\n",
       "      <td>2023-03-30 09:04:20</td>\n",
       "      <td>45984</td>\n",
       "      <td>30/03/2023</td>\n",
       "    </tr>\n",
       "    <tr>\n",
       "      <th>4</th>\n",
       "      <td>spark_catalog.dbsigadl.funcionario_titulacao</td>\n",
       "      <td>2023-03-30 09:03:08.449</td>\n",
       "      <td>2023-03-30 09:03:54</td>\n",
       "      <td>305074</td>\n",
       "      <td>30/03/2023</td>\n",
       "    </tr>\n",
       "  </tbody>\n",
       "</table>\n",
       "</div>"
      ]
     },
     "metadata": {
      "application/vnd.databricks.v1+output": {
       "addedWidgets": {},
       "arguments": {},
       "data": "<div>\n<style scoped>\n    .dataframe tbody tr th:only-of-type {\n        vertical-align: middle;\n    }\n\n    .dataframe tbody tr th {\n        vertical-align: top;\n    }\n\n    .dataframe thead th {\n        text-align: right;\n    }\n</style>\n<table border=\"1\" class=\"dataframe\">\n  <thead>\n    <tr style=\"text-align: right;\">\n      <th></th>\n      <th>name</th>\n      <th>createdAt</th>\n      <th>lastModified</th>\n      <th>sizeInBytes</th>\n      <th>dataExec</th>\n    </tr>\n  </thead>\n  <tbody>\n    <tr>\n      <th>0</th>\n      <td>spark_catalog.dbsigadl.bi_st_periodo_letivo_ref</td>\n      <td>2023-03-30 09:21:35.566</td>\n      <td>2023-03-30 09:22:05</td>\n      <td>39823</td>\n      <td>30/03/2023</td>\n    </tr>\n    <tr>\n      <th>1</th>\n      <td>spark_catalog.dbsigadl.turma_professor</td>\n      <td>2023-03-30 09:18:46.829</td>\n      <td>2023-03-30 09:19:15</td>\n      <td>2466471</td>\n      <td>30/03/2023</td>\n    </tr>\n    <tr>\n      <th>2</th>\n      <td>spark_catalog.dbsigadl.turmaxcomponente</td>\n      <td>2023-03-30 09:06:03.289</td>\n      <td>2023-03-30 09:06:36</td>\n      <td>9404427</td>\n      <td>30/03/2023</td>\n    </tr>\n    <tr>\n      <th>3</th>\n      <td>spark_catalog.dbsigadl.titulacao</td>\n      <td>2023-03-30 09:03:45.189</td>\n      <td>2023-03-30 09:04:20</td>\n      <td>45984</td>\n      <td>30/03/2023</td>\n    </tr>\n    <tr>\n      <th>4</th>\n      <td>spark_catalog.dbsigadl.funcionario_titulacao</td>\n      <td>2023-03-30 09:03:08.449</td>\n      <td>2023-03-30 09:03:54</td>\n      <td>305074</td>\n      <td>30/03/2023</td>\n    </tr>\n  </tbody>\n</table>\n</div>",
       "datasetInfos": [],
       "metadata": {},
       "removedWidgets": [],
       "textData": null,
       "type": "htmlSandbox"
      }
     },
     "output_type": "display_data"
    }
   ],
   "source": [
    "#Declaração dos dataframes\n",
    "df_detalhes = 0\n",
    "df_detalhes_appended = pd.DataFrame()\n",
    "data_atual = datetime.now().strftime(\"%d/%m/%Y\")\n",
    "\n",
    "#Inicio do Loop para ver os bancos de dados \n",
    "for db in lista_database_talend:\n",
    "  df_metadata = spark.sql('SHOW TABLES IN  '+db)\n",
    "  df_pandas_md  = df_metadata.select('database', 'tableName').toPandas()\n",
    "\n",
    "# lista de Schemas e tabelas dentro do datafrane pandas\n",
    "  for database,table in df_pandas_md.values:\n",
    "    if not isinstance(df_detalhes, pyspark.sql.dataframe.DataFrame):\n",
    "      try:  # Primeira passagem para cada database  \n",
    "        df_detalhes = spark.sql(' DESCRIBE DETAIL '+database+'.'+table)\n",
    "        print('1º Ok /', database+'.'+table, ' / criação')\n",
    "      except:\n",
    "         print('1º Error', database+'.'+table)\n",
    "    else:\n",
    "      try:  # Segunda passagem para cada database  \n",
    "        df_detalhes = df_detalhes.union(spark.sql(' DESCRIBE DETAIL '+database+'.'+table))\n",
    "        print('2º Ok /', database+'.'+table, ' / union')\n",
    "      except:\n",
    "        print('2º Error', database, table)\n",
    "df_detalhes = df_detalhes.withColumn(\"dataExec\", lit(data_atual).cast(StringType()))\n",
    "df_detalhes = df_detalhes.toPandas()\n",
    "df_detalhes_appended = df_detalhes_appended.append(df_detalhes)\n",
    "  \n",
    "df_final = spark.createDataFrame(df_detalhes_appended[['name','createdAt','lastModified', 'sizeInBytes', 'dataExec']].sort_values('lastModified', ascending=False)).toPandas()\n",
    "print(\"Fim da carga.\")\n",
    "df_final.head()"
   ]
  },
  {
   "cell_type": "markdown",
   "metadata": {
    "application/vnd.databricks.v1+cell": {
     "cellMetadata": {
      "byteLimit": 2048000,
      "rowLimit": 10000
     },
     "inputWidgets": {},
     "nuid": "f207f7db-6252-4b4b-a3ce-599ec50dd2b1",
     "showTitle": false,
     "title": ""
    }
   },
   "source": [
    "#Criação de tabelas"
   ]
  },
  {
   "cell_type": "code",
   "execution_count": 0,
   "metadata": {
    "application/vnd.databricks.v1+cell": {
     "cellMetadata": {
      "byteLimit": 2048000,
      "rowLimit": 10000
     },
     "inputWidgets": {},
     "nuid": "ad91a911-616b-4231-8586-66072e2f7f51",
     "showTitle": false,
     "title": ""
    }
   },
   "outputs": [],
   "source": [
    "#Cria o dataframe com o resultado final da geração de dados\n",
    "#cria uma tabela temporária para fazer a comparação\n",
    "df_final = spark.createDataFrame(df_final)\n",
    "df_final.createOrReplaceTempView(\"ctrl_carga_temp\")"
   ]
  },
  {
   "cell_type": "markdown",
   "metadata": {
    "application/vnd.databricks.v1+cell": {
     "cellMetadata": {
      "byteLimit": 2048000,
      "rowLimit": 10000
     },
     "inputWidgets": {},
     "nuid": "3a14e8f4-e673-40cb-acbd-db6c183e3357",
     "showTitle": false,
     "title": ""
    }
   },
   "source": [
    "##Comparação"
   ]
  },
  {
   "cell_type": "code",
   "execution_count": 0,
   "metadata": {
    "application/vnd.databricks.v1+cell": {
     "cellMetadata": {
      "byteLimit": 2048000,
      "implicitDf": true,
      "rowLimit": 10000
     },
     "inputWidgets": {},
     "nuid": "da5c09f5-0820-41ac-ac25-62e858541a22",
     "showTitle": false,
     "title": ""
    }
   },
   "outputs": [
    {
     "output_type": "display_data",
     "data": {
      "text/html": [
       "<style scoped>\n",
       "  .table-result-container {\n",
       "    max-height: 300px;\n",
       "    overflow: auto;\n",
       "  }\n",
       "  table, th, td {\n",
       "    border: 1px solid black;\n",
       "    border-collapse: collapse;\n",
       "  }\n",
       "  th, td {\n",
       "    padding: 5px;\n",
       "  }\n",
       "  th {\n",
       "    text-align: left;\n",
       "  }\n",
       "</style><div class='table-result-container'><table class='table-result'><thead style='background-color: white'><tr><th>num_affected_rows</th><th>num_inserted_rows</th></tr></thead><tbody></tbody></table></div>"
      ]
     },
     "metadata": {
      "application/vnd.databricks.v1+output": {
       "addedWidgets": {},
       "aggData": [],
       "aggError": "",
       "aggOverflow": false,
       "aggSchema": [],
       "aggSeriesLimitReached": false,
       "aggType": "",
       "arguments": {},
       "columnCustomDisplayInfos": {},
       "data": [],
       "datasetInfos": [],
       "dbfsResultPath": null,
       "isJsonSchema": true,
       "metadata": {},
       "overflow": false,
       "plotOptions": {
        "customPlotOptions": {},
        "displayType": "table",
        "pivotAggregation": null,
        "pivotColumns": null,
        "xColumns": null,
        "yColumns": null
       },
       "removedWidgets": [],
       "schema": [
        {
         "metadata": "{}",
         "name": "num_affected_rows",
         "type": "\"long\""
        },
        {
         "metadata": "{}",
         "name": "num_inserted_rows",
         "type": "\"long\""
        }
       ],
       "type": "table"
      }
     },
     "output_type": "display_data"
    }
   ],
   "source": [
    "%sql\n",
    "--Cria uma tabela de falhas baseado nos dados que foram inseridos na tabela temporária que falharam\n",
    "create or replace table stage.ctrl_carga_falhas as\n",
    "  select org.* \n",
    "  from ctrl_carga_temp tmp\n",
    "  inner join stage.ctrl_carga_falhas org\n",
    "    on org.name = tmp.name \n",
    "  where org.lastModified >= tmp.lastModified\n",
    "  and org.sizeInBytes >= tmp.sizeInBytes\t"
   ]
  },
  {
   "cell_type": "code",
   "execution_count": 0,
   "metadata": {
    "application/vnd.databricks.v1+cell": {
     "cellMetadata": {
      "byteLimit": 2048000,
      "rowLimit": 10000
     },
     "inputWidgets": {},
     "nuid": "9874fdfb-4238-44e4-8878-740503a55212",
     "showTitle": false,
     "title": ""
    }
   },
   "outputs": [],
   "source": [
    "#insere na tabela física os dados coletados pelo relatório\n",
    "permanent_table_name = \"stage.ctrl_carga_falhas\"\n",
    "df_final.write.mode('append').format(\"delta\").saveAsTable(permanent_table_name)"
   ]
  },
  {
   "cell_type": "code",
   "execution_count": 0,
   "metadata": {
    "application/vnd.databricks.v1+cell": {
     "cellMetadata": {
      "byteLimit": 2048000,
      "implicitDf": true,
      "rowLimit": 10000
     },
     "inputWidgets": {},
     "nuid": "105f7e3e-5b68-4540-a700-21cbab1c20ea",
     "showTitle": false,
     "title": ""
    }
   },
   "outputs": [
    {
     "output_type": "display_data",
     "data": {
      "text/html": [
       "<style scoped>\n",
       "  .table-result-container {\n",
       "    max-height: 300px;\n",
       "    overflow: auto;\n",
       "  }\n",
       "  table, th, td {\n",
       "    border: 1px solid black;\n",
       "    border-collapse: collapse;\n",
       "  }\n",
       "  th, td {\n",
       "    padding: 5px;\n",
       "  }\n",
       "  th {\n",
       "    text-align: left;\n",
       "  }\n",
       "</style><div class='table-result-container'><table class='table-result'><thead style='background-color: white'><tr><th>num_affected_rows</th></tr></thead><tbody><tr><td>0</td></tr></tbody></table></div>"
      ]
     },
     "metadata": {
      "application/vnd.databricks.v1+output": {
       "addedWidgets": {},
       "aggData": [],
       "aggError": "",
       "aggOverflow": false,
       "aggSchema": [],
       "aggSeriesLimitReached": false,
       "aggType": "",
       "arguments": {},
       "columnCustomDisplayInfos": {},
       "data": [
        [
         0
        ]
       ],
       "datasetInfos": [],
       "dbfsResultPath": null,
       "isJsonSchema": true,
       "metadata": {},
       "overflow": false,
       "plotOptions": {
        "customPlotOptions": {},
        "displayType": "table",
        "pivotAggregation": null,
        "pivotColumns": null,
        "xColumns": null,
        "yColumns": null
       },
       "removedWidgets": [],
       "schema": [
        {
         "metadata": "{}",
         "name": "num_affected_rows",
         "type": "\"long\""
        }
       ],
       "type": "table"
      }
     },
     "output_type": "display_data"
    }
   ],
   "source": [
    "%sql\n",
    "--Exclui dados da tabela com a data de execução menos que o dia atual - 8\n",
    "DELETE FROM stage.ctrl_carga_falhas\n",
    "WHERE date_format(to_date(dataExec, 'dd/MM/yyyy'), 'yyyy-MM-dd') <= date_sub(current_date, 2)"
   ]
  },
  {
   "cell_type": "code",
   "execution_count": 0,
   "metadata": {
    "application/vnd.databricks.v1+cell": {
     "cellMetadata": {
      "byteLimit": 2048000,
      "implicitDf": true,
      "rowLimit": 10000
     },
     "inputWidgets": {},
     "nuid": "a4704dde-390c-47c2-8289-0ac955bf67bb",
     "showTitle": false,
     "title": ""
    }
   },
   "outputs": [
    {
     "output_type": "display_data",
     "data": {
      "text/html": [
       "<style scoped>\n",
       "  .table-result-container {\n",
       "    max-height: 300px;\n",
       "    overflow: auto;\n",
       "  }\n",
       "  table, th, td {\n",
       "    border: 1px solid black;\n",
       "    border-collapse: collapse;\n",
       "  }\n",
       "  th, td {\n",
       "    padding: 5px;\n",
       "  }\n",
       "  th {\n",
       "    text-align: left;\n",
       "  }\n",
       "</style><div class='table-result-container'><table class='table-result'><thead style='background-color: white'><tr><th>num_affected_rows</th></tr></thead><tbody><tr><td>0</td></tr></tbody></table></div>"
      ]
     },
     "metadata": {
      "application/vnd.databricks.v1+output": {
       "addedWidgets": {},
       "aggData": [],
       "aggError": "",
       "aggOverflow": false,
       "aggSchema": [],
       "aggSeriesLimitReached": false,
       "aggType": "",
       "arguments": {},
       "columnCustomDisplayInfos": {},
       "data": [
        [
         0
        ]
       ],
       "datasetInfos": [],
       "dbfsResultPath": null,
       "isJsonSchema": true,
       "metadata": {},
       "overflow": false,
       "plotOptions": {
        "customPlotOptions": {},
        "displayType": "table",
        "pivotAggregation": null,
        "pivotColumns": null,
        "xColumns": null,
        "yColumns": null
       },
       "removedWidgets": [],
       "schema": [
        {
         "metadata": "{}",
         "name": "num_affected_rows",
         "type": "\"long\""
        }
       ],
       "type": "table"
      }
     },
     "output_type": "display_data"
    }
   ],
   "source": [
    "%sql\n",
    "--Exclui dados da tabela com a data de execução menos que o dia atual - 1\n",
    "DELETE FROM stage.ctrl_carga\n",
    "WHERE date_format(to_date(dataExec, 'dd/MM/yyyy'), 'yyyy-MM-dd') <= date_sub(current_date, 1)"
   ]
  },
  {
   "cell_type": "markdown",
   "metadata": {
    "application/vnd.databricks.v1+cell": {
     "cellMetadata": {
      "byteLimit": 2048000,
      "rowLimit": 10000
     },
     "inputWidgets": {},
     "nuid": "22fb84ff-a88e-4861-bb48-deea53c0708e",
     "showTitle": false,
     "title": ""
    }
   },
   "source": [
    "##Extração do relatório"
   ]
  },
  {
   "cell_type": "code",
   "execution_count": 0,
   "metadata": {
    "application/vnd.databricks.v1+cell": {
     "cellMetadata": {
      "byteLimit": 2048000,
      "rowLimit": 10000
     },
     "inputWidgets": {},
     "nuid": "4da113ee-98af-4d2f-8d1c-01f81c8ea7ff",
     "showTitle": false,
     "title": ""
    }
   },
   "outputs": [
    {
     "output_type": "display_data",
     "data": {
      "text/html": [
       "<style scoped>\n",
       "  .table-result-container {\n",
       "    max-height: 300px;\n",
       "    overflow: auto;\n",
       "  }\n",
       "  table, th, td {\n",
       "    border: 1px solid black;\n",
       "    border-collapse: collapse;\n",
       "  }\n",
       "  th, td {\n",
       "    padding: 5px;\n",
       "  }\n",
       "  th {\n",
       "    text-align: left;\n",
       "  }\n",
       "</style><div class='table-result-container'><table class='table-result'><thead style='background-color: white'><tr><th>extract</th><th>name</th><th>createdAt</th><th>lastModified</th><th>sizeInBytes</th><th>dataExec</th></tr></thead><tbody></tbody></table></div>"
      ]
     },
     "metadata": {
      "application/vnd.databricks.v1+output": {
       "addedWidgets": {},
       "aggData": [],
       "aggError": "",
       "aggOverflow": false,
       "aggSchema": [],
       "aggSeriesLimitReached": false,
       "aggType": "",
       "arguments": {},
       "columnCustomDisplayInfos": {},
       "data": [],
       "datasetInfos": [],
       "dbfsResultPath": null,
       "isJsonSchema": true,
       "metadata": {},
       "overflow": false,
       "plotOptions": {
        "customPlotOptions": {},
        "displayType": "table",
        "pivotAggregation": null,
        "pivotColumns": null,
        "xColumns": null,
        "yColumns": null
       },
       "removedWidgets": [],
       "schema": [
        {
         "metadata": "{}",
         "name": "extract",
         "type": "\"string\""
        },
        {
         "metadata": "{}",
         "name": "name",
         "type": "\"string\""
        },
        {
         "metadata": "{}",
         "name": "createdAt",
         "type": "\"timestamp\""
        },
        {
         "metadata": "{}",
         "name": "lastModified",
         "type": "\"timestamp\""
        },
        {
         "metadata": "{}",
         "name": "sizeInBytes",
         "type": "\"long\""
        },
        {
         "metadata": "{}",
         "name": "dataExec",
         "type": "\"string\""
        }
       ],
       "type": "table"
      }
     },
     "output_type": "display_data"
    }
   ],
   "source": [
    "#Rekatório de falhas\n",
    "df_falha = spark.read.table('stage.ctrl_carga_falhas')\n",
    "df_falha.display()"
   ]
  },
  {
   "cell_type": "code",
   "execution_count": 0,
   "metadata": {
    "application/vnd.databricks.v1+cell": {
     "cellMetadata": {
      "byteLimit": 2048000,
      "rowLimit": 10000
     },
     "inputWidgets": {},
     "nuid": "38614f59-74e8-4011-9d33-e8179af5e736",
     "showTitle": false,
     "title": ""
    }
   },
   "outputs": [
    {
     "output_type": "display_data",
     "data": {
      "text/html": [
       "<style scoped>\n",
       "  .table-result-container {\n",
       "    max-height: 300px;\n",
       "    overflow: auto;\n",
       "  }\n",
       "  table, th, td {\n",
       "    border: 1px solid black;\n",
       "    border-collapse: collapse;\n",
       "  }\n",
       "  th, td {\n",
       "    padding: 5px;\n",
       "  }\n",
       "  th {\n",
       "    text-align: left;\n",
       "  }\n",
       "</style><div class='table-result-container'><table class='table-result'><thead style='background-color: white'><tr><th>extract</th><th>name</th><th>createdAt</th><th>lastModified</th><th>sizeInBytes</th><th>dataExec</th></tr></thead><tbody><tr><td>null</td><td>spark_catalog.dbsigadl.bi_st_periodo_letivo_ref</td><td>2023-03-30T09:21:35.566+0000</td><td>2023-03-30T09:22:05.000+0000</td><td>39823</td><td>30/03/2023</td></tr><tr><td>null</td><td>spark_catalog.dbsigadl.turma_professor</td><td>2023-03-30T09:18:46.829+0000</td><td>2023-03-30T09:19:15.000+0000</td><td>2466471</td><td>30/03/2023</td></tr><tr><td>null</td><td>spark_catalog.dbsigadl.turmaxcomponente</td><td>2023-03-30T09:06:03.289+0000</td><td>2023-03-30T09:06:36.000+0000</td><td>9404427</td><td>30/03/2023</td></tr><tr><td>null</td><td>spark_catalog.dbsigadl.titulacao</td><td>2023-03-30T09:03:45.189+0000</td><td>2023-03-30T09:04:20.000+0000</td><td>45984</td><td>30/03/2023</td></tr><tr><td>null</td><td>spark_catalog.dbsigadl.funcionario_titulacao</td><td>2023-03-30T09:03:08.449+0000</td><td>2023-03-30T09:03:54.000+0000</td><td>305074</td><td>30/03/2023</td></tr><tr><td>null</td><td>spark_catalog.dbsigadl.funcionario</td><td>2023-03-30T08:37:16.231+0000</td><td>2023-03-30T08:37:45.000+0000</td><td>1331549</td><td>30/03/2023</td></tr><tr><td>null</td><td>spark_catalog.dbsigadl.instituicao_ensino_tipo</td><td>2023-03-30T08:34:14.962+0000</td><td>2023-03-30T08:34:40.000+0000</td><td>37098</td><td>30/03/2023</td></tr><tr><td>null</td><td>spark_catalog.dbsigadl.cor_raca</td><td>2023-03-30T08:19:08.451+0000</td><td>2023-03-30T08:21:51.000+0000</td><td>40715</td><td>30/03/2023</td></tr><tr><td>null</td><td>spark_catalog.dbsigadl.turno</td><td>2023-03-30T08:15:59.482+0000</td><td>2023-03-30T08:20:52.000+0000</td><td>54931</td><td>30/03/2023</td></tr><tr><td>null</td><td>spark_catalog.dbsigadl.nivel_ensino</td><td>2023-03-30T08:17:11.316+0000</td><td>2023-03-30T08:20:43.000+0000</td><td>50947</td><td>30/03/2023</td></tr><tr><td>null</td><td>spark_catalog.dbsigadl.status_matricula</td><td>2023-03-30T07:58:53.251+0000</td><td>2023-03-30T07:59:20.000+0000</td><td>52679</td><td>30/03/2023</td></tr><tr><td>null</td><td>spark_catalog.dbsigadl.necessidade_especial</td><td>2023-03-30T07:57:08.694+0000</td><td>2023-03-30T07:57:34.000+0000</td><td>56383</td><td>30/03/2023</td></tr><tr><td>null</td><td>spark_catalog.dbsigadl.estado</td><td>2023-03-30T07:56:16.931+0000</td><td>2023-03-30T07:56:48.000+0000</td><td>56865</td><td>30/03/2023</td></tr><tr><td>null</td><td>spark_catalog.dbsigadl.evento</td><td>2023-03-30T07:40:47.265+0000</td><td>2023-03-30T07:40:52.000+0000</td><td>66905</td><td>30/03/2023</td></tr><tr><td>null</td><td>spark_catalog.dbsigadl.pais</td><td>2023-03-30T07:32:55.780+0000</td><td>2023-03-30T07:33:22.000+0000</td><td>69884</td><td>30/03/2023</td></tr><tr><td>null</td><td>spark_catalog.dbsigadl.ocorrencia_tipo</td><td>2023-03-30T07:30:19.238+0000</td><td>2023-03-30T07:30:44.000+0000</td><td>95317</td><td>30/03/2023</td></tr><tr><td>null</td><td>spark_catalog.dbsigadl.lancamento</td><td>2023-03-30T07:29:28.106+0000</td><td>2023-03-30T07:29:57.000+0000</td><td>370451</td><td>30/03/2023</td></tr><tr><td>null</td><td>spark_catalog.dbsigadl.historico_interno</td><td>2023-03-30T07:15:00.413+0000</td><td>2023-03-30T07:16:21.000+0000</td><td>58674150</td><td>30/03/2023</td></tr><tr><td>null</td><td>spark_catalog.dbsigadl.habilitacao</td><td>2023-03-30T07:12:05.514+0000</td><td>2023-03-30T07:12:35.000+0000</td><td>379955</td><td>30/03/2023</td></tr><tr><td>null</td><td>spark_catalog.dbsigadl.cidade</td><td>2023-03-30T07:11:03.332+0000</td><td>2023-03-30T07:11:34.000+0000</td><td>2617882</td><td>30/03/2023</td></tr><tr><td>null</td><td>spark_catalog.dbsigadl.aluno</td><td>2023-03-30T07:09:31.336+0000</td><td>2023-03-30T07:10:21.000+0000</td><td>19170462</td><td>30/03/2023</td></tr><tr><td>null</td><td>spark_catalog.dbsigadl.doc</td><td>2023-03-30T07:02:43.942+0000</td><td>2023-03-30T07:05:45.000+0000</td><td>872422132</td><td>30/03/2023</td></tr><tr><td>null</td><td>spark_catalog.dbsigadl.complemento</td><td>2023-03-30T06:53:20.362+0000</td><td>2023-03-30T06:54:10.000+0000</td><td>179115444</td><td>30/03/2023</td></tr><tr><td>null</td><td>spark_catalog.dbsigadl.complementoxparcela</td><td>2023-03-30T06:51:42.006+0000</td><td>2023-03-30T06:52:40.000+0000</td><td>151259824</td><td>30/03/2023</td></tr><tr><td>null</td><td>spark_catalog.dbsigadl.vinculo_academico</td><td>2023-03-30T06:28:46.198+0000</td><td>2023-03-30T06:29:24.000+0000</td><td>22254623</td><td>30/03/2023</td></tr><tr><td>null</td><td>spark_catalog.dbsigadl.ponto_inscricao</td><td>2023-03-30T06:25:25.864+0000</td><td>2023-03-30T06:25:55.000+0000</td><td>203116</td><td>30/03/2023</td></tr><tr><td>null</td><td>spark_catalog.dbsigadl.habilitacao_tipo</td><td>2023-03-30T06:25:25.361+0000</td><td>2023-03-30T06:25:52.000+0000</td><td>69930</td><td>30/03/2023</td></tr><tr><td>null</td><td>spark_catalog.dbsigadl.pessoa</td><td>2023-03-30T06:05:08.202+0000</td><td>2023-03-30T06:07:01.000+0000</td><td>130478119</td><td>30/03/2023</td></tr><tr><td>null</td><td>spark_catalog.dbsigadl.bloco</td><td>2023-03-30T06:05:37.896+0000</td><td>2023-03-30T06:06:17.000+0000</td><td>106650</td><td>30/03/2023</td></tr><tr><td>null</td><td>spark_catalog.dbsigadl.polo</td><td>2023-03-30T06:04:50.612+0000</td><td>2023-03-30T06:06:08.000+0000</td><td>775083</td><td>30/03/2023</td></tr><tr><td>null</td><td>spark_catalog.dbsigadl.matricula</td><td>2023-03-30T06:03:20.326+0000</td><td>2023-03-30T06:05:57.000+0000</td><td>53594898</td><td>30/03/2023</td></tr><tr><td>null</td><td>spark_catalog.dbsigadl.curriculo_composicao</td><td>2023-03-30T05:48:51.203+0000</td><td>2023-03-30T05:49:26.000+0000</td><td>3799838</td><td>30/03/2023</td></tr><tr><td>null</td><td>spark_catalog.dbsigadl.ocorrencia</td><td>2023-03-30T05:47:31.608+0000</td><td>2023-03-30T05:48:51.000+0000</td><td>270667172</td><td>30/03/2023</td></tr><tr><td>null</td><td>spark_catalog.dbsigadl.periodo_letivo</td><td>2023-03-30T05:46:47.020+0000</td><td>2023-03-30T05:47:18.000+0000</td><td>465584</td><td>30/03/2023</td></tr><tr><td>null</td><td>spark_catalog.dbsigadl.matricula_composicao</td><td>2023-03-30T05:42:37.965+0000</td><td>2023-03-30T05:44:40.000+0000</td><td>186456242</td><td>30/03/2023</td></tr><tr><td>null</td><td>spark_catalog.dbsigadl.codigo_promocional</td><td>2023-03-30T05:43:23.867+0000</td><td>2023-03-30T05:43:53.000+0000</td><td>324356</td><td>30/03/2023</td></tr><tr><td>null</td><td>spark_catalog.dbsigadl.candidatoxcodigo_promocional</td><td>2023-03-30T05:31:35.970+0000</td><td>2023-03-30T05:34:54.000+0000</td><td>4355471</td><td>30/03/2023</td></tr><tr><td>null</td><td>spark_catalog.dbsigadl.processo_selecao</td><td>2023-03-30T05:25:23.281+0000</td><td>2023-03-30T05:26:01.000+0000</td><td>1006390</td><td>30/03/2023</td></tr><tr><td>null</td><td>spark_catalog.dbsigadl.forma_ingresso</td><td>2023-03-30T05:23:48.890+0000</td><td>2023-03-30T05:24:17.000+0000</td><td>78973</td><td>30/03/2023</td></tr><tr><td>null</td><td>spark_catalog.dbsigadl.turma</td><td>2023-03-30T05:23:24.769+0000</td><td>2023-03-30T05:23:58.000+0000</td><td>3324796</td><td>30/03/2023</td></tr><tr><td>null</td><td>spark_catalog.dbsigadl.curso</td><td>2023-03-30T05:18:11.443+0000</td><td>2023-03-30T05:20:52.000+0000</td><td>669817</td><td>30/03/2023</td></tr><tr><td>null</td><td>spark_catalog.dbsigadl.requerimento_tipo</td><td>2023-03-30T05:10:21.507+0000</td><td>2023-03-30T05:14:00.000+0000</td><td>780113</td><td>30/03/2023</td></tr><tr><td>null</td><td>spark_catalog.dbsigadl.instituicao_ensino</td><td>2023-03-30T05:03:01.486+0000</td><td>2023-03-30T05:06:02.000+0000</td><td>14451437</td><td>30/03/2023</td></tr><tr><td>null</td><td>spark_catalog.dbsigadl.candidato_status_classificacao</td><td>2023-03-30T05:02:57.187+0000</td><td>2023-03-30T05:05:10.000+0000</td><td>38978</td><td>30/03/2023</td></tr><tr><td>null</td><td>spark_catalog.dbsigadl.curriculo</td><td>2023-03-30T05:00:31.433+0000</td><td>2023-03-30T05:03:07.000+0000</td><td>408389</td><td>30/03/2023</td></tr><tr><td>null</td><td>spark_catalog.dbsigadl.componente_curricular</td><td>2023-03-30T04:49:02.190+0000</td><td>2023-03-30T04:53:07.000+0000</td><td>5073703</td><td>30/03/2023</td></tr><tr><td>null</td><td>spark_catalog.dbsigadl.aproveitamento</td><td>2023-03-30T04:41:09.254+0000</td><td>2023-03-30T04:43:58.000+0000</td><td>12011946</td><td>30/03/2023</td></tr><tr><td>null</td><td>spark_catalog.dbsigadl.documentacao</td><td>2023-03-30T04:40:24.130+0000</td><td>2023-03-30T04:42:59.000+0000</td><td>116112</td><td>30/03/2023</td></tr><tr><td>null</td><td>spark_catalog.dbsigadl.unidade</td><td>2023-03-30T04:39:48.488+0000</td><td>2023-03-30T04:42:38.000+0000</td><td>188972</td><td>30/03/2023</td></tr><tr><td>null</td><td>spark_catalog.dbsigadl.status_vinculo</td><td>2023-03-30T04:37:56.372+0000</td><td>2023-03-30T04:40:34.000+0000</td><td>49117</td><td>30/03/2023</td></tr><tr><td>null</td><td>spark_catalog.dbsigadl.aluno_documentacao</td><td>2023-03-30T04:25:26.118+0000</td><td>2023-03-30T04:30:57.000+0000</td><td>176202615</td><td>30/03/2023</td></tr><tr><td>null</td><td>spark_catalog.dbsigadl.requerimento</td><td>2023-03-30T04:21:28.232+0000</td><td>2023-03-30T04:25:16.000+0000</td><td>155864784</td><td>30/03/2023</td></tr><tr><td>null</td><td>spark_catalog.dbsigadl.banco</td><td>2023-03-30T04:22:12.767+0000</td><td>2023-03-30T04:24:34.000+0000</td><td>79929</td><td>30/03/2023</td></tr><tr><td>null</td><td>spark_catalog.dbsigadl.lancamentoxdoc</td><td>2023-03-30T04:17:38.041+0000</td><td>2023-03-30T04:22:22.000+0000</td><td>707477290</td><td>30/03/2023</td></tr><tr><td>null</td><td>spark_catalog.dbsigadl.parametro_siga</td><td>2023-03-30T04:19:14.283+0000</td><td>2023-03-30T04:20:31.000+0000</td><td>5006764</td><td>30/03/2023</td></tr><tr><td>null</td><td>spark_catalog.dbsigadl.exames_avaliacoes_desempenho_discente</td><td>2023-03-30T04:16:32.798+0000</td><td>2023-03-30T04:16:58.000+0000</td><td>2578179</td><td>30/03/2023</td></tr><tr><td>null</td><td>spark_catalog.dbsigadl.contato</td><td>2023-03-30T04:13:35.945+0000</td><td>2023-03-30T04:15:35.000+0000</td><td>69912667</td><td>30/03/2023</td></tr><tr><td>null</td><td>spark_catalog.dbsigadl.plano_pagamento</td><td>2023-03-30T04:01:03.689+0000</td><td>2023-03-30T04:02:15.000+0000</td><td>38666484</td><td>30/03/2023</td></tr><tr><td>null</td><td>spark_catalog.dbsigadl.usuario</td><td>2023-03-30T04:00:06.638+0000</td><td>2023-03-30T04:00:59.000+0000</td><td>38173677</td><td>30/03/2023</td></tr><tr><td>null</td><td>spark_catalog.dbsigadl.plano_pagamento_periodo</td><td>2023-03-30T03:54:55.926+0000</td><td>2023-03-30T03:55:25.000+0000</td><td>9657652</td><td>30/03/2023</td></tr><tr><td>null</td><td>spark_catalog.dbsigadl.requerimento_status</td><td>2023-03-30T03:53:23.643+0000</td><td>2023-03-30T03:53:51.000+0000</td><td>53514</td><td>30/03/2023</td></tr><tr><td>null</td><td>spark_catalog.dbsigadl.processo_selecaoxdata_prova</td><td>2023-03-30T03:51:13.269+0000</td><td>2023-03-30T03:51:57.000+0000</td><td>74265686</td><td>30/03/2023</td></tr><tr><td>null</td><td>spark_catalog.dbsigadl.requerimento_movimento</td><td>2023-03-30T03:37:37.782+0000</td><td>2023-03-30T03:38:31.000+0000</td><td>194430811</td><td>30/03/2023</td></tr><tr><td>null</td><td>spark_catalog.dbsigadl.requerimento_tipo_etapa</td><td>2023-03-30T03:31:10.763+0000</td><td>2023-03-30T03:31:40.000+0000</td><td>197050</td><td>30/03/2023</td></tr><tr><td>null</td><td>spark_catalog.db_siga_unisul.funcionario</td><td>2023-03-30T12:06:42.399+0000</td><td>2023-03-30T12:06:44.000+0000</td><td>109792</td><td>30/03/2023</td></tr><tr><td>null</td><td>spark_catalog.db_siga_unisul.requerimento_status</td><td>2023-03-30T12:04:54.316+0000</td><td>2023-03-30T12:04:55.000+0000</td><td>3178</td><td>30/03/2023</td></tr><tr><td>null</td><td>spark_catalog.db_siga_unisul.requerimento</td><td>2023-03-30T12:03:19.341+0000</td><td>2023-03-30T12:03:27.000+0000</td><td>4388305</td><td>30/03/2023</td></tr><tr><td>null</td><td>spark_catalog.db_siga_unisul.requerimento_tipo</td><td>2023-03-30T12:01:36.953+0000</td><td>2023-03-30T12:01:38.000+0000</td><td>95616</td><td>30/03/2023</td></tr><tr><td>null</td><td>spark_catalog.db_siga_unisul.bi_tb_docs_alunos</td><td>2023-03-30T11:54:15.618+0000</td><td>2023-03-30T11:54:26.000+0000</td><td>4385763</td><td>30/03/2023</td></tr><tr><td>null</td><td>spark_catalog.db_siga_unisul.bi_st_periodo_letivo_ref</td><td>2023-03-30T11:52:37.276+0000</td><td>2023-03-30T11:52:38.000+0000</td><td>1970</td><td>30/03/2023</td></tr><tr><td>null</td><td>spark_catalog.db_siga_unisul.vertical</td><td>2023-03-30T11:51:42.488+0000</td><td>2023-03-30T11:51:43.000+0000</td><td>0</td><td>30/03/2023</td></tr><tr><td>null</td><td>spark_catalog.db_siga_unisul.turma_professor</td><td>2023-03-30T11:51:07.104+0000</td><td>2023-03-30T11:51:08.000+0000</td><td>671537</td><td>30/03/2023</td></tr><tr><td>null</td><td>spark_catalog.db_siga_unisul.curso_vertical</td><td>2023-03-30T11:50:40.700+0000</td><td>2023-03-30T11:50:44.000+0000</td><td>0</td><td>30/03/2023</td></tr><tr><td>null</td><td>spark_catalog.db_siga_unisul.turmaxcomponente</td><td>2023-03-30T11:49:46.956+0000</td><td>2023-03-30T11:49:52.000+0000</td><td>3014666</td><td>30/03/2023</td></tr><tr><td>null</td><td>spark_catalog.db_siga_unisul.titulacao</td><td>2023-03-30T11:48:43.477+0000</td><td>2023-03-30T11:48:45.000+0000</td><td>2790</td><td>30/03/2023</td></tr><tr><td>null</td><td>spark_catalog.db_siga_unisul.funcionario_titulacao</td><td>2023-03-30T11:47:38.572+0000</td><td>2023-03-30T11:47:40.000+0000</td><td>91956</td><td>30/03/2023</td></tr><tr><td>null</td><td>spark_catalog.db_siga_unisul.evento</td><td>2023-03-30T11:27:38.704+0000</td><td>2023-03-30T11:27:40.000+0000</td><td>28732</td><td>30/03/2023</td></tr><tr><td>null</td><td>spark_catalog.db_siga_unisul.periodo_letivo</td><td>2023-03-30T11:24:43.586+0000</td><td>2023-03-30T11:24:45.000+0000</td><td>44394</td><td>30/03/2023</td></tr><tr><td>null</td><td>spark_catalog.db_siga_unisul.unidade</td><td>2023-03-30T11:24:38.505+0000</td><td>2023-03-30T11:24:40.000+0000</td><td>11668</td><td>30/03/2023</td></tr><tr><td>null</td><td>spark_catalog.db_siga_unisul.lancamento</td><td>2023-03-30T11:23:35.256+0000</td><td>2023-03-30T11:23:36.000+0000</td><td>41633</td><td>30/03/2023</td></tr><tr><td>null</td><td>spark_catalog.db_siga_unisul.instituicao_ensino_tipo</td><td>2023-03-30T11:23:06.506+0000</td><td>2023-03-30T11:23:07.000+0000</td><td>2097</td><td>30/03/2023</td></tr><tr><td>null</td><td>spark_catalog.db_siga_unisul.nivel_ensino</td><td>2023-03-30T11:22:14.598+0000</td><td>2023-03-30T11:22:16.000+0000</td><td>3368</td><td>30/03/2023</td></tr><tr><td>null</td><td>spark_catalog.db_siga_unisul.bloco</td><td>2023-03-30T11:21:52.097+0000</td><td>2023-03-30T11:21:53.000+0000</td><td>6886</td><td>30/03/2023</td></tr><tr><td>null</td><td>spark_catalog.db_siga_unisul.processo_selecao</td><td>2023-03-30T11:20:51.160+0000</td><td>2023-03-30T11:20:52.000+0000</td><td>33090</td><td>30/03/2023</td></tr><tr><td>null</td><td>spark_catalog.db_siga_unisul.ocorrencia_tipo</td><td>2023-03-30T11:20:47.151+0000</td><td>2023-03-30T11:20:48.000+0000</td><td>6108</td><td>30/03/2023</td></tr><tr><td>null</td><td>spark_catalog.db_siga_unisul.polo</td><td>2023-03-30T11:20:03.240+0000</td><td>2023-03-30T11:20:04.000+0000</td><td>76741</td><td>30/03/2023</td></tr><tr><td>null</td><td>spark_catalog.db_siga_unisul.requerimento_tipo_etapa</td><td>2023-03-30T11:18:20.660+0000</td><td>2023-03-30T11:18:22.000+0000</td><td>13762</td><td>30/03/2023</td></tr><tr><td>null</td><td>spark_catalog.db_siga_unisul.curso</td><td>2023-03-30T11:17:38.349+0000</td><td>2023-03-30T11:17:39.000+0000</td><td>134482</td><td>30/03/2023</td></tr><tr><td>null</td><td>spark_catalog.db_siga_unisul.habilitacao</td><td>2023-03-30T11:16:22.427+0000</td><td>2023-03-30T11:16:23.000+0000</td><td>73701</td><td>30/03/2023</td></tr><tr><td>null</td><td>spark_catalog.db_siga_unisul.forma_ingresso</td><td>2023-03-30T11:06:04.748+0000</td><td>2023-03-30T11:06:06.000+0000</td><td>5482</td><td>30/03/2023</td></tr><tr><td>null</td><td>spark_catalog.db_siga_unisul.status_vinculo</td><td>2023-03-30T11:05:06.395+0000</td><td>2023-03-30T11:05:07.000+0000</td><td>2939</td><td>30/03/2023</td></tr><tr><td>null</td><td>spark_catalog.db_siga_unisul.estado</td><td>2023-03-30T11:04:04.183+0000</td><td>2023-03-30T11:04:05.000+0000</td><td>3179</td><td>30/03/2023</td></tr><tr><td>null</td><td>spark_catalog.db_siga_unisul.ponto_inscricao</td><td>2023-03-30T11:03:01.634+0000</td><td>2023-03-30T11:03:03.000+0000</td><td>16866</td><td>30/03/2023</td></tr><tr><td>null</td><td>spark_catalog.db_siga_unisul.candidato_status_classificacao</td><td>2023-03-30T11:01:45.039+0000</td><td>2023-03-30T11:01:46.000+0000</td><td>2093</td><td>30/03/2023</td></tr><tr><td>null</td><td>spark_catalog.db_siga_unisul.turno</td><td>2023-03-30T11:00:57.168+0000</td><td>2023-03-30T11:00:58.000+0000</td><td>3054</td><td>30/03/2023</td></tr><tr><td>null</td><td>spark_catalog.db_siga_unisul.habilitacao_tipo</td><td>2023-03-30T11:00:07.413+0000</td><td>2023-03-30T11:00:09.000+0000</td><td>5409</td><td>30/03/2023</td></tr><tr><td>null</td><td>spark_catalog.db_siga_unisul.requerimento_movimento</td><td>2023-03-30T10:59:44.335+0000</td><td>2023-03-30T10:59:49.000+0000</td><td>6394248</td><td>30/03/2023</td></tr><tr><td>null</td><td>spark_catalog.db_siga_unisul.status_matricula</td><td>2023-03-30T10:59:17.776+0000</td><td>2023-03-30T10:59:19.000+0000</td><td>3147</td><td>30/03/2023</td></tr><tr><td>null</td><td>spark_catalog.db_siga_unisul.codigo_promocional</td><td>2023-03-30T10:58:59.455+0000</td><td>2023-03-30T10:59:00.000+0000</td><td>12757</td><td>30/03/2023</td></tr><tr><td>null</td><td>spark_catalog.db_siga_unisul.parametro_siga</td><td>2023-03-30T10:58:09.120+0000</td><td>2023-03-30T10:58:10.000+0000</td><td>374610</td><td>30/03/2023</td></tr><tr><td>null</td><td>spark_catalog.db_siga_unisul.curriculo</td><td>2023-03-30T10:57:15.828+0000</td><td>2023-03-30T10:57:17.000+0000</td><td>82928</td><td>30/03/2023</td></tr><tr><td>null</td><td>spark_catalog.db_siga_unisul.matricula_composicao</td><td>2023-03-30T10:21:35.146+0000</td><td>2023-03-30T10:21:45.000+0000</td><td>28963598</td><td>30/03/2023</td></tr><tr><td>null</td><td>spark_catalog.db_siga_unisul.curriculo_composicao</td><td>2023-03-30T10:20:48.552+0000</td><td>2023-03-30T10:20:50.000+0000</td><td>385628</td><td>30/03/2023</td></tr><tr><td>null</td><td>spark_catalog.db_siga_unisul.complementoxparcela</td><td>2023-03-30T10:19:13.885+0000</td><td>2023-03-30T10:19:23.000+0000</td><td>3172573</td><td>30/03/2023</td></tr><tr><td>null</td><td>spark_catalog.db_siga_unisul.instituicao_ensino</td><td>2023-03-30T10:19:05.505+0000</td><td>2023-03-30T10:19:11.000+0000</td><td>3662778</td><td>30/03/2023</td></tr><tr><td>null</td><td>spark_catalog.db_siga_unisul.aluno</td><td>2023-03-30T10:17:47.297+0000</td><td>2023-03-30T10:17:53.000+0000</td><td>2166034</td><td>30/03/2023</td></tr><tr><td>null</td><td>spark_catalog.db_siga_unisul.doc</td><td>2023-03-30T10:16:40.078+0000</td><td>2023-03-30T10:16:55.000+0000</td><td>59531317</td><td>30/03/2023</td></tr><tr><td>null</td><td>spark_catalog.db_siga_unisul.usuario</td><td>2023-03-30T10:15:59.598+0000</td><td>2023-03-30T10:16:05.000+0000</td><td>2381984</td><td>30/03/2023</td></tr><tr><td>null</td><td>spark_catalog.db_siga_unisul.componente_curricular</td><td>2023-03-30T10:13:39.753+0000</td><td>2023-03-30T10:13:41.000+0000</td><td>1399859</td><td>30/03/2023</td></tr><tr><td>null</td><td>spark_catalog.db_siga_unisul.cidade</td><td>2023-03-30T10:12:02.129+0000</td><td>2023-03-30T10:12:03.000+0000</td><td>221861</td><td>30/03/2023</td></tr><tr><td>null</td><td>spark_catalog.db_siga_unisul.lancamentoxdoc</td><td>2023-03-30T10:11:13.846+0000</td><td>2023-03-30T10:11:27.000+0000</td><td>79902605</td><td>30/03/2023</td></tr><tr><td>null</td><td>spark_catalog.db_siga_unisul.turma</td><td>2023-03-30T10:11:08.197+0000</td><td>2023-03-30T10:11:09.000+0000</td><td>735225</td><td>30/03/2023</td></tr><tr><td>null</td><td>spark_catalog.db_siga_unisul.candidatoxcodigo_promocional</td><td>2023-03-30T10:09:09.804+0000</td><td>2023-03-30T10:09:11.000+0000</td><td>93991</td><td>30/03/2023</td></tr><tr><td>null</td><td>spark_catalog.db_siga_unisul.candidato</td><td>2023-03-30T09:49:43.865+0000</td><td>2023-03-30T09:49:50.000+0000</td><td>2768842</td><td>30/03/2023</td></tr><tr><td>null</td><td>spark_catalog.db_siga_unisul.plano_pagamento_periodo</td><td>2023-03-30T09:46:11.503+0000</td><td>2023-03-30T09:46:17.000+0000</td><td>1817718</td><td>30/03/2023</td></tr><tr><td>null</td><td>spark_catalog.db_siga_unisul.matricula</td><td>2023-03-30T09:44:33.949+0000</td><td>2023-03-30T09:44:40.000+0000</td><td>9286477</td><td>30/03/2023</td></tr><tr><td>null</td><td>spark_catalog.db_siga_unisul.pessoa</td><td>2023-03-30T09:42:47.970+0000</td><td>2023-03-30T09:42:56.000+0000</td><td>23994376</td><td>30/03/2023</td></tr><tr><td>null</td><td>spark_catalog.db_siga_unisul.complemento</td><td>2023-03-30T09:42:49.233+0000</td><td>2023-03-30T09:42:55.000+0000</td><td>1385932</td><td>30/03/2023</td></tr><tr><td>null</td><td>spark_catalog.db_siga_unisul.plano_pagamento</td><td>2023-03-30T09:40:55.250+0000</td><td>2023-03-30T09:41:01.000+0000</td><td>4894029</td><td>30/03/2023</td></tr><tr><td>null</td><td>spark_catalog.db_siga_unisul.vinculo_academico</td><td>2023-03-30T09:39:42.917+0000</td><td>2023-03-30T09:39:50.000+0000</td><td>3485061</td><td>30/03/2023</td></tr><tr><td>null</td><td>spark_catalog.db_siga_unisul.ocorrencia</td><td>2023-03-30T09:39:20.917+0000</td><td>2023-03-30T09:39:26.000+0000</td><td>4246034</td><td>30/03/2023</td></tr><tr><td>null</td><td>spark_catalog.db_siga_unisul.aproveitamento</td><td>2023-03-30T09:37:02.150+0000</td><td>2023-03-30T09:37:08.000+0000</td><td>4198120</td><td>30/03/2023</td></tr><tr><td>null</td><td>spark_catalog.db_siga_unisul.historico_interno</td><td>2023-03-30T09:36:37.379+0000</td><td>2023-03-30T09:36:45.000+0000</td><td>21547222</td><td>30/03/2023</td></tr><tr><td>null</td><td>spark_catalog.db_siga_unisul.contato</td><td>2023-03-30T09:35:27.560+0000</td><td>2023-03-30T09:35:33.000+0000</td><td>2711695</td><td>30/03/2023</td></tr><tr><td>null</td><td>spark_catalog.db_siga_unisul.processo_selecaoxdata_prova</td><td>2023-03-30T09:34:18.882+0000</td><td>2023-03-30T09:34:20.000+0000</td><td>0</td><td>30/03/2023</td></tr></tbody></table></div>"
      ]
     },
     "metadata": {
      "application/vnd.databricks.v1+output": {
       "addedWidgets": {},
       "aggData": [],
       "aggError": "",
       "aggOverflow": false,
       "aggSchema": [],
       "aggSeriesLimitReached": false,
       "aggType": "",
       "arguments": {},
       "columnCustomDisplayInfos": {},
       "data": [
        [
         null,
         "spark_catalog.dbsigadl.bi_st_periodo_letivo_ref",
         "2023-03-30T09:21:35.566+0000",
         "2023-03-30T09:22:05.000+0000",
         39823,
         "30/03/2023"
        ],
        [
         null,
         "spark_catalog.dbsigadl.turma_professor",
         "2023-03-30T09:18:46.829+0000",
         "2023-03-30T09:19:15.000+0000",
         2466471,
         "30/03/2023"
        ],
        [
         null,
         "spark_catalog.dbsigadl.turmaxcomponente",
         "2023-03-30T09:06:03.289+0000",
         "2023-03-30T09:06:36.000+0000",
         9404427,
         "30/03/2023"
        ],
        [
         null,
         "spark_catalog.dbsigadl.titulacao",
         "2023-03-30T09:03:45.189+0000",
         "2023-03-30T09:04:20.000+0000",
         45984,
         "30/03/2023"
        ],
        [
         null,
         "spark_catalog.dbsigadl.funcionario_titulacao",
         "2023-03-30T09:03:08.449+0000",
         "2023-03-30T09:03:54.000+0000",
         305074,
         "30/03/2023"
        ],
        [
         null,
         "spark_catalog.dbsigadl.funcionario",
         "2023-03-30T08:37:16.231+0000",
         "2023-03-30T08:37:45.000+0000",
         1331549,
         "30/03/2023"
        ],
        [
         null,
         "spark_catalog.dbsigadl.instituicao_ensino_tipo",
         "2023-03-30T08:34:14.962+0000",
         "2023-03-30T08:34:40.000+0000",
         37098,
         "30/03/2023"
        ],
        [
         null,
         "spark_catalog.dbsigadl.cor_raca",
         "2023-03-30T08:19:08.451+0000",
         "2023-03-30T08:21:51.000+0000",
         40715,
         "30/03/2023"
        ],
        [
         null,
         "spark_catalog.dbsigadl.turno",
         "2023-03-30T08:15:59.482+0000",
         "2023-03-30T08:20:52.000+0000",
         54931,
         "30/03/2023"
        ],
        [
         null,
         "spark_catalog.dbsigadl.nivel_ensino",
         "2023-03-30T08:17:11.316+0000",
         "2023-03-30T08:20:43.000+0000",
         50947,
         "30/03/2023"
        ],
        [
         null,
         "spark_catalog.dbsigadl.status_matricula",
         "2023-03-30T07:58:53.251+0000",
         "2023-03-30T07:59:20.000+0000",
         52679,
         "30/03/2023"
        ],
        [
         null,
         "spark_catalog.dbsigadl.necessidade_especial",
         "2023-03-30T07:57:08.694+0000",
         "2023-03-30T07:57:34.000+0000",
         56383,
         "30/03/2023"
        ],
        [
         null,
         "spark_catalog.dbsigadl.estado",
         "2023-03-30T07:56:16.931+0000",
         "2023-03-30T07:56:48.000+0000",
         56865,
         "30/03/2023"
        ],
        [
         null,
         "spark_catalog.dbsigadl.evento",
         "2023-03-30T07:40:47.265+0000",
         "2023-03-30T07:40:52.000+0000",
         66905,
         "30/03/2023"
        ],
        [
         null,
         "spark_catalog.dbsigadl.pais",
         "2023-03-30T07:32:55.780+0000",
         "2023-03-30T07:33:22.000+0000",
         69884,
         "30/03/2023"
        ],
        [
         null,
         "spark_catalog.dbsigadl.ocorrencia_tipo",
         "2023-03-30T07:30:19.238+0000",
         "2023-03-30T07:30:44.000+0000",
         95317,
         "30/03/2023"
        ],
        [
         null,
         "spark_catalog.dbsigadl.lancamento",
         "2023-03-30T07:29:28.106+0000",
         "2023-03-30T07:29:57.000+0000",
         370451,
         "30/03/2023"
        ],
        [
         null,
         "spark_catalog.dbsigadl.historico_interno",
         "2023-03-30T07:15:00.413+0000",
         "2023-03-30T07:16:21.000+0000",
         58674150,
         "30/03/2023"
        ],
        [
         null,
         "spark_catalog.dbsigadl.habilitacao",
         "2023-03-30T07:12:05.514+0000",
         "2023-03-30T07:12:35.000+0000",
         379955,
         "30/03/2023"
        ],
        [
         null,
         "spark_catalog.dbsigadl.cidade",
         "2023-03-30T07:11:03.332+0000",
         "2023-03-30T07:11:34.000+0000",
         2617882,
         "30/03/2023"
        ],
        [
         null,
         "spark_catalog.dbsigadl.aluno",
         "2023-03-30T07:09:31.336+0000",
         "2023-03-30T07:10:21.000+0000",
         19170462,
         "30/03/2023"
        ],
        [
         null,
         "spark_catalog.dbsigadl.doc",
         "2023-03-30T07:02:43.942+0000",
         "2023-03-30T07:05:45.000+0000",
         872422132,
         "30/03/2023"
        ],
        [
         null,
         "spark_catalog.dbsigadl.complemento",
         "2023-03-30T06:53:20.362+0000",
         "2023-03-30T06:54:10.000+0000",
         179115444,
         "30/03/2023"
        ],
        [
         null,
         "spark_catalog.dbsigadl.complementoxparcela",
         "2023-03-30T06:51:42.006+0000",
         "2023-03-30T06:52:40.000+0000",
         151259824,
         "30/03/2023"
        ],
        [
         null,
         "spark_catalog.dbsigadl.vinculo_academico",
         "2023-03-30T06:28:46.198+0000",
         "2023-03-30T06:29:24.000+0000",
         22254623,
         "30/03/2023"
        ],
        [
         null,
         "spark_catalog.dbsigadl.ponto_inscricao",
         "2023-03-30T06:25:25.864+0000",
         "2023-03-30T06:25:55.000+0000",
         203116,
         "30/03/2023"
        ],
        [
         null,
         "spark_catalog.dbsigadl.habilitacao_tipo",
         "2023-03-30T06:25:25.361+0000",
         "2023-03-30T06:25:52.000+0000",
         69930,
         "30/03/2023"
        ],
        [
         null,
         "spark_catalog.dbsigadl.pessoa",
         "2023-03-30T06:05:08.202+0000",
         "2023-03-30T06:07:01.000+0000",
         130478119,
         "30/03/2023"
        ],
        [
         null,
         "spark_catalog.dbsigadl.bloco",
         "2023-03-30T06:05:37.896+0000",
         "2023-03-30T06:06:17.000+0000",
         106650,
         "30/03/2023"
        ],
        [
         null,
         "spark_catalog.dbsigadl.polo",
         "2023-03-30T06:04:50.612+0000",
         "2023-03-30T06:06:08.000+0000",
         775083,
         "30/03/2023"
        ],
        [
         null,
         "spark_catalog.dbsigadl.matricula",
         "2023-03-30T06:03:20.326+0000",
         "2023-03-30T06:05:57.000+0000",
         53594898,
         "30/03/2023"
        ],
        [
         null,
         "spark_catalog.dbsigadl.curriculo_composicao",
         "2023-03-30T05:48:51.203+0000",
         "2023-03-30T05:49:26.000+0000",
         3799838,
         "30/03/2023"
        ],
        [
         null,
         "spark_catalog.dbsigadl.ocorrencia",
         "2023-03-30T05:47:31.608+0000",
         "2023-03-30T05:48:51.000+0000",
         270667172,
         "30/03/2023"
        ],
        [
         null,
         "spark_catalog.dbsigadl.periodo_letivo",
         "2023-03-30T05:46:47.020+0000",
         "2023-03-30T05:47:18.000+0000",
         465584,
         "30/03/2023"
        ],
        [
         null,
         "spark_catalog.dbsigadl.matricula_composicao",
         "2023-03-30T05:42:37.965+0000",
         "2023-03-30T05:44:40.000+0000",
         186456242,
         "30/03/2023"
        ],
        [
         null,
         "spark_catalog.dbsigadl.codigo_promocional",
         "2023-03-30T05:43:23.867+0000",
         "2023-03-30T05:43:53.000+0000",
         324356,
         "30/03/2023"
        ],
        [
         null,
         "spark_catalog.dbsigadl.candidatoxcodigo_promocional",
         "2023-03-30T05:31:35.970+0000",
         "2023-03-30T05:34:54.000+0000",
         4355471,
         "30/03/2023"
        ],
        [
         null,
         "spark_catalog.dbsigadl.processo_selecao",
         "2023-03-30T05:25:23.281+0000",
         "2023-03-30T05:26:01.000+0000",
         1006390,
         "30/03/2023"
        ],
        [
         null,
         "spark_catalog.dbsigadl.forma_ingresso",
         "2023-03-30T05:23:48.890+0000",
         "2023-03-30T05:24:17.000+0000",
         78973,
         "30/03/2023"
        ],
        [
         null,
         "spark_catalog.dbsigadl.turma",
         "2023-03-30T05:23:24.769+0000",
         "2023-03-30T05:23:58.000+0000",
         3324796,
         "30/03/2023"
        ],
        [
         null,
         "spark_catalog.dbsigadl.curso",
         "2023-03-30T05:18:11.443+0000",
         "2023-03-30T05:20:52.000+0000",
         669817,
         "30/03/2023"
        ],
        [
         null,
         "spark_catalog.dbsigadl.requerimento_tipo",
         "2023-03-30T05:10:21.507+0000",
         "2023-03-30T05:14:00.000+0000",
         780113,
         "30/03/2023"
        ],
        [
         null,
         "spark_catalog.dbsigadl.instituicao_ensino",
         "2023-03-30T05:03:01.486+0000",
         "2023-03-30T05:06:02.000+0000",
         14451437,
         "30/03/2023"
        ],
        [
         null,
         "spark_catalog.dbsigadl.candidato_status_classificacao",
         "2023-03-30T05:02:57.187+0000",
         "2023-03-30T05:05:10.000+0000",
         38978,
         "30/03/2023"
        ],
        [
         null,
         "spark_catalog.dbsigadl.curriculo",
         "2023-03-30T05:00:31.433+0000",
         "2023-03-30T05:03:07.000+0000",
         408389,
         "30/03/2023"
        ],
        [
         null,
         "spark_catalog.dbsigadl.componente_curricular",
         "2023-03-30T04:49:02.190+0000",
         "2023-03-30T04:53:07.000+0000",
         5073703,
         "30/03/2023"
        ],
        [
         null,
         "spark_catalog.dbsigadl.aproveitamento",
         "2023-03-30T04:41:09.254+0000",
         "2023-03-30T04:43:58.000+0000",
         12011946,
         "30/03/2023"
        ],
        [
         null,
         "spark_catalog.dbsigadl.documentacao",
         "2023-03-30T04:40:24.130+0000",
         "2023-03-30T04:42:59.000+0000",
         116112,
         "30/03/2023"
        ],
        [
         null,
         "spark_catalog.dbsigadl.unidade",
         "2023-03-30T04:39:48.488+0000",
         "2023-03-30T04:42:38.000+0000",
         188972,
         "30/03/2023"
        ],
        [
         null,
         "spark_catalog.dbsigadl.status_vinculo",
         "2023-03-30T04:37:56.372+0000",
         "2023-03-30T04:40:34.000+0000",
         49117,
         "30/03/2023"
        ],
        [
         null,
         "spark_catalog.dbsigadl.aluno_documentacao",
         "2023-03-30T04:25:26.118+0000",
         "2023-03-30T04:30:57.000+0000",
         176202615,
         "30/03/2023"
        ],
        [
         null,
         "spark_catalog.dbsigadl.requerimento",
         "2023-03-30T04:21:28.232+0000",
         "2023-03-30T04:25:16.000+0000",
         155864784,
         "30/03/2023"
        ],
        [
         null,
         "spark_catalog.dbsigadl.banco",
         "2023-03-30T04:22:12.767+0000",
         "2023-03-30T04:24:34.000+0000",
         79929,
         "30/03/2023"
        ],
        [
         null,
         "spark_catalog.dbsigadl.lancamentoxdoc",
         "2023-03-30T04:17:38.041+0000",
         "2023-03-30T04:22:22.000+0000",
         707477290,
         "30/03/2023"
        ],
        [
         null,
         "spark_catalog.dbsigadl.parametro_siga",
         "2023-03-30T04:19:14.283+0000",
         "2023-03-30T04:20:31.000+0000",
         5006764,
         "30/03/2023"
        ],
        [
         null,
         "spark_catalog.dbsigadl.exames_avaliacoes_desempenho_discente",
         "2023-03-30T04:16:32.798+0000",
         "2023-03-30T04:16:58.000+0000",
         2578179,
         "30/03/2023"
        ],
        [
         null,
         "spark_catalog.dbsigadl.contato",
         "2023-03-30T04:13:35.945+0000",
         "2023-03-30T04:15:35.000+0000",
         69912667,
         "30/03/2023"
        ],
        [
         null,
         "spark_catalog.dbsigadl.plano_pagamento",
         "2023-03-30T04:01:03.689+0000",
         "2023-03-30T04:02:15.000+0000",
         38666484,
         "30/03/2023"
        ],
        [
         null,
         "spark_catalog.dbsigadl.usuario",
         "2023-03-30T04:00:06.638+0000",
         "2023-03-30T04:00:59.000+0000",
         38173677,
         "30/03/2023"
        ],
        [
         null,
         "spark_catalog.dbsigadl.plano_pagamento_periodo",
         "2023-03-30T03:54:55.926+0000",
         "2023-03-30T03:55:25.000+0000",
         9657652,
         "30/03/2023"
        ],
        [
         null,
         "spark_catalog.dbsigadl.requerimento_status",
         "2023-03-30T03:53:23.643+0000",
         "2023-03-30T03:53:51.000+0000",
         53514,
         "30/03/2023"
        ],
        [
         null,
         "spark_catalog.dbsigadl.processo_selecaoxdata_prova",
         "2023-03-30T03:51:13.269+0000",
         "2023-03-30T03:51:57.000+0000",
         74265686,
         "30/03/2023"
        ],
        [
         null,
         "spark_catalog.dbsigadl.requerimento_movimento",
         "2023-03-30T03:37:37.782+0000",
         "2023-03-30T03:38:31.000+0000",
         194430811,
         "30/03/2023"
        ],
        [
         null,
         "spark_catalog.dbsigadl.requerimento_tipo_etapa",
         "2023-03-30T03:31:10.763+0000",
         "2023-03-30T03:31:40.000+0000",
         197050,
         "30/03/2023"
        ],
        [
         null,
         "spark_catalog.db_siga_unisul.funcionario",
         "2023-03-30T12:06:42.399+0000",
         "2023-03-30T12:06:44.000+0000",
         109792,
         "30/03/2023"
        ],
        [
         null,
         "spark_catalog.db_siga_unisul.requerimento_status",
         "2023-03-30T12:04:54.316+0000",
         "2023-03-30T12:04:55.000+0000",
         3178,
         "30/03/2023"
        ],
        [
         null,
         "spark_catalog.db_siga_unisul.requerimento",
         "2023-03-30T12:03:19.341+0000",
         "2023-03-30T12:03:27.000+0000",
         4388305,
         "30/03/2023"
        ],
        [
         null,
         "spark_catalog.db_siga_unisul.requerimento_tipo",
         "2023-03-30T12:01:36.953+0000",
         "2023-03-30T12:01:38.000+0000",
         95616,
         "30/03/2023"
        ],
        [
         null,
         "spark_catalog.db_siga_unisul.bi_tb_docs_alunos",
         "2023-03-30T11:54:15.618+0000",
         "2023-03-30T11:54:26.000+0000",
         4385763,
         "30/03/2023"
        ],
        [
         null,
         "spark_catalog.db_siga_unisul.bi_st_periodo_letivo_ref",
         "2023-03-30T11:52:37.276+0000",
         "2023-03-30T11:52:38.000+0000",
         1970,
         "30/03/2023"
        ],
        [
         null,
         "spark_catalog.db_siga_unisul.vertical",
         "2023-03-30T11:51:42.488+0000",
         "2023-03-30T11:51:43.000+0000",
         0,
         "30/03/2023"
        ],
        [
         null,
         "spark_catalog.db_siga_unisul.turma_professor",
         "2023-03-30T11:51:07.104+0000",
         "2023-03-30T11:51:08.000+0000",
         671537,
         "30/03/2023"
        ],
        [
         null,
         "spark_catalog.db_siga_unisul.curso_vertical",
         "2023-03-30T11:50:40.700+0000",
         "2023-03-30T11:50:44.000+0000",
         0,
         "30/03/2023"
        ],
        [
         null,
         "spark_catalog.db_siga_unisul.turmaxcomponente",
         "2023-03-30T11:49:46.956+0000",
         "2023-03-30T11:49:52.000+0000",
         3014666,
         "30/03/2023"
        ],
        [
         null,
         "spark_catalog.db_siga_unisul.titulacao",
         "2023-03-30T11:48:43.477+0000",
         "2023-03-30T11:48:45.000+0000",
         2790,
         "30/03/2023"
        ],
        [
         null,
         "spark_catalog.db_siga_unisul.funcionario_titulacao",
         "2023-03-30T11:47:38.572+0000",
         "2023-03-30T11:47:40.000+0000",
         91956,
         "30/03/2023"
        ],
        [
         null,
         "spark_catalog.db_siga_unisul.evento",
         "2023-03-30T11:27:38.704+0000",
         "2023-03-30T11:27:40.000+0000",
         28732,
         "30/03/2023"
        ],
        [
         null,
         "spark_catalog.db_siga_unisul.periodo_letivo",
         "2023-03-30T11:24:43.586+0000",
         "2023-03-30T11:24:45.000+0000",
         44394,
         "30/03/2023"
        ],
        [
         null,
         "spark_catalog.db_siga_unisul.unidade",
         "2023-03-30T11:24:38.505+0000",
         "2023-03-30T11:24:40.000+0000",
         11668,
         "30/03/2023"
        ],
        [
         null,
         "spark_catalog.db_siga_unisul.lancamento",
         "2023-03-30T11:23:35.256+0000",
         "2023-03-30T11:23:36.000+0000",
         41633,
         "30/03/2023"
        ],
        [
         null,
         "spark_catalog.db_siga_unisul.instituicao_ensino_tipo",
         "2023-03-30T11:23:06.506+0000",
         "2023-03-30T11:23:07.000+0000",
         2097,
         "30/03/2023"
        ],
        [
         null,
         "spark_catalog.db_siga_unisul.nivel_ensino",
         "2023-03-30T11:22:14.598+0000",
         "2023-03-30T11:22:16.000+0000",
         3368,
         "30/03/2023"
        ],
        [
         null,
         "spark_catalog.db_siga_unisul.bloco",
         "2023-03-30T11:21:52.097+0000",
         "2023-03-30T11:21:53.000+0000",
         6886,
         "30/03/2023"
        ],
        [
         null,
         "spark_catalog.db_siga_unisul.processo_selecao",
         "2023-03-30T11:20:51.160+0000",
         "2023-03-30T11:20:52.000+0000",
         33090,
         "30/03/2023"
        ],
        [
         null,
         "spark_catalog.db_siga_unisul.ocorrencia_tipo",
         "2023-03-30T11:20:47.151+0000",
         "2023-03-30T11:20:48.000+0000",
         6108,
         "30/03/2023"
        ],
        [
         null,
         "spark_catalog.db_siga_unisul.polo",
         "2023-03-30T11:20:03.240+0000",
         "2023-03-30T11:20:04.000+0000",
         76741,
         "30/03/2023"
        ],
        [
         null,
         "spark_catalog.db_siga_unisul.requerimento_tipo_etapa",
         "2023-03-30T11:18:20.660+0000",
         "2023-03-30T11:18:22.000+0000",
         13762,
         "30/03/2023"
        ],
        [
         null,
         "spark_catalog.db_siga_unisul.curso",
         "2023-03-30T11:17:38.349+0000",
         "2023-03-30T11:17:39.000+0000",
         134482,
         "30/03/2023"
        ],
        [
         null,
         "spark_catalog.db_siga_unisul.habilitacao",
         "2023-03-30T11:16:22.427+0000",
         "2023-03-30T11:16:23.000+0000",
         73701,
         "30/03/2023"
        ],
        [
         null,
         "spark_catalog.db_siga_unisul.forma_ingresso",
         "2023-03-30T11:06:04.748+0000",
         "2023-03-30T11:06:06.000+0000",
         5482,
         "30/03/2023"
        ],
        [
         null,
         "spark_catalog.db_siga_unisul.status_vinculo",
         "2023-03-30T11:05:06.395+0000",
         "2023-03-30T11:05:07.000+0000",
         2939,
         "30/03/2023"
        ],
        [
         null,
         "spark_catalog.db_siga_unisul.estado",
         "2023-03-30T11:04:04.183+0000",
         "2023-03-30T11:04:05.000+0000",
         3179,
         "30/03/2023"
        ],
        [
         null,
         "spark_catalog.db_siga_unisul.ponto_inscricao",
         "2023-03-30T11:03:01.634+0000",
         "2023-03-30T11:03:03.000+0000",
         16866,
         "30/03/2023"
        ],
        [
         null,
         "spark_catalog.db_siga_unisul.candidato_status_classificacao",
         "2023-03-30T11:01:45.039+0000",
         "2023-03-30T11:01:46.000+0000",
         2093,
         "30/03/2023"
        ],
        [
         null,
         "spark_catalog.db_siga_unisul.turno",
         "2023-03-30T11:00:57.168+0000",
         "2023-03-30T11:00:58.000+0000",
         3054,
         "30/03/2023"
        ],
        [
         null,
         "spark_catalog.db_siga_unisul.habilitacao_tipo",
         "2023-03-30T11:00:07.413+0000",
         "2023-03-30T11:00:09.000+0000",
         5409,
         "30/03/2023"
        ],
        [
         null,
         "spark_catalog.db_siga_unisul.requerimento_movimento",
         "2023-03-30T10:59:44.335+0000",
         "2023-03-30T10:59:49.000+0000",
         6394248,
         "30/03/2023"
        ],
        [
         null,
         "spark_catalog.db_siga_unisul.status_matricula",
         "2023-03-30T10:59:17.776+0000",
         "2023-03-30T10:59:19.000+0000",
         3147,
         "30/03/2023"
        ],
        [
         null,
         "spark_catalog.db_siga_unisul.codigo_promocional",
         "2023-03-30T10:58:59.455+0000",
         "2023-03-30T10:59:00.000+0000",
         12757,
         "30/03/2023"
        ],
        [
         null,
         "spark_catalog.db_siga_unisul.parametro_siga",
         "2023-03-30T10:58:09.120+0000",
         "2023-03-30T10:58:10.000+0000",
         374610,
         "30/03/2023"
        ],
        [
         null,
         "spark_catalog.db_siga_unisul.curriculo",
         "2023-03-30T10:57:15.828+0000",
         "2023-03-30T10:57:17.000+0000",
         82928,
         "30/03/2023"
        ],
        [
         null,
         "spark_catalog.db_siga_unisul.matricula_composicao",
         "2023-03-30T10:21:35.146+0000",
         "2023-03-30T10:21:45.000+0000",
         28963598,
         "30/03/2023"
        ],
        [
         null,
         "spark_catalog.db_siga_unisul.curriculo_composicao",
         "2023-03-30T10:20:48.552+0000",
         "2023-03-30T10:20:50.000+0000",
         385628,
         "30/03/2023"
        ],
        [
         null,
         "spark_catalog.db_siga_unisul.complementoxparcela",
         "2023-03-30T10:19:13.885+0000",
         "2023-03-30T10:19:23.000+0000",
         3172573,
         "30/03/2023"
        ],
        [
         null,
         "spark_catalog.db_siga_unisul.instituicao_ensino",
         "2023-03-30T10:19:05.505+0000",
         "2023-03-30T10:19:11.000+0000",
         3662778,
         "30/03/2023"
        ],
        [
         null,
         "spark_catalog.db_siga_unisul.aluno",
         "2023-03-30T10:17:47.297+0000",
         "2023-03-30T10:17:53.000+0000",
         2166034,
         "30/03/2023"
        ],
        [
         null,
         "spark_catalog.db_siga_unisul.doc",
         "2023-03-30T10:16:40.078+0000",
         "2023-03-30T10:16:55.000+0000",
         59531317,
         "30/03/2023"
        ],
        [
         null,
         "spark_catalog.db_siga_unisul.usuario",
         "2023-03-30T10:15:59.598+0000",
         "2023-03-30T10:16:05.000+0000",
         2381984,
         "30/03/2023"
        ],
        [
         null,
         "spark_catalog.db_siga_unisul.componente_curricular",
         "2023-03-30T10:13:39.753+0000",
         "2023-03-30T10:13:41.000+0000",
         1399859,
         "30/03/2023"
        ],
        [
         null,
         "spark_catalog.db_siga_unisul.cidade",
         "2023-03-30T10:12:02.129+0000",
         "2023-03-30T10:12:03.000+0000",
         221861,
         "30/03/2023"
        ],
        [
         null,
         "spark_catalog.db_siga_unisul.lancamentoxdoc",
         "2023-03-30T10:11:13.846+0000",
         "2023-03-30T10:11:27.000+0000",
         79902605,
         "30/03/2023"
        ],
        [
         null,
         "spark_catalog.db_siga_unisul.turma",
         "2023-03-30T10:11:08.197+0000",
         "2023-03-30T10:11:09.000+0000",
         735225,
         "30/03/2023"
        ],
        [
         null,
         "spark_catalog.db_siga_unisul.candidatoxcodigo_promocional",
         "2023-03-30T10:09:09.804+0000",
         "2023-03-30T10:09:11.000+0000",
         93991,
         "30/03/2023"
        ],
        [
         null,
         "spark_catalog.db_siga_unisul.candidato",
         "2023-03-30T09:49:43.865+0000",
         "2023-03-30T09:49:50.000+0000",
         2768842,
         "30/03/2023"
        ],
        [
         null,
         "spark_catalog.db_siga_unisul.plano_pagamento_periodo",
         "2023-03-30T09:46:11.503+0000",
         "2023-03-30T09:46:17.000+0000",
         1817718,
         "30/03/2023"
        ],
        [
         null,
         "spark_catalog.db_siga_unisul.matricula",
         "2023-03-30T09:44:33.949+0000",
         "2023-03-30T09:44:40.000+0000",
         9286477,
         "30/03/2023"
        ],
        [
         null,
         "spark_catalog.db_siga_unisul.pessoa",
         "2023-03-30T09:42:47.970+0000",
         "2023-03-30T09:42:56.000+0000",
         23994376,
         "30/03/2023"
        ],
        [
         null,
         "spark_catalog.db_siga_unisul.complemento",
         "2023-03-30T09:42:49.233+0000",
         "2023-03-30T09:42:55.000+0000",
         1385932,
         "30/03/2023"
        ],
        [
         null,
         "spark_catalog.db_siga_unisul.plano_pagamento",
         "2023-03-30T09:40:55.250+0000",
         "2023-03-30T09:41:01.000+0000",
         4894029,
         "30/03/2023"
        ],
        [
         null,
         "spark_catalog.db_siga_unisul.vinculo_academico",
         "2023-03-30T09:39:42.917+0000",
         "2023-03-30T09:39:50.000+0000",
         3485061,
         "30/03/2023"
        ],
        [
         null,
         "spark_catalog.db_siga_unisul.ocorrencia",
         "2023-03-30T09:39:20.917+0000",
         "2023-03-30T09:39:26.000+0000",
         4246034,
         "30/03/2023"
        ],
        [
         null,
         "spark_catalog.db_siga_unisul.aproveitamento",
         "2023-03-30T09:37:02.150+0000",
         "2023-03-30T09:37:08.000+0000",
         4198120,
         "30/03/2023"
        ],
        [
         null,
         "spark_catalog.db_siga_unisul.historico_interno",
         "2023-03-30T09:36:37.379+0000",
         "2023-03-30T09:36:45.000+0000",
         21547222,
         "30/03/2023"
        ],
        [
         null,
         "spark_catalog.db_siga_unisul.contato",
         "2023-03-30T09:35:27.560+0000",
         "2023-03-30T09:35:33.000+0000",
         2711695,
         "30/03/2023"
        ],
        [
         null,
         "spark_catalog.db_siga_unisul.processo_selecaoxdata_prova",
         "2023-03-30T09:34:18.882+0000",
         "2023-03-30T09:34:20.000+0000",
         0,
         "30/03/2023"
        ]
       ],
       "datasetInfos": [],
       "dbfsResultPath": null,
       "isJsonSchema": true,
       "metadata": {},
       "overflow": false,
       "plotOptions": {
        "customPlotOptions": {},
        "displayType": "table",
        "pivotAggregation": null,
        "pivotColumns": null,
        "xColumns": null,
        "yColumns": null
       },
       "removedWidgets": [],
       "schema": [
        {
         "metadata": "{}",
         "name": "extract",
         "type": "\"string\""
        },
        {
         "metadata": "{}",
         "name": "name",
         "type": "\"string\""
        },
        {
         "metadata": "{}",
         "name": "createdAt",
         "type": "\"timestamp\""
        },
        {
         "metadata": "{}",
         "name": "lastModified",
         "type": "\"timestamp\""
        },
        {
         "metadata": "{}",
         "name": "sizeInBytes",
         "type": "\"long\""
        },
        {
         "metadata": "{}",
         "name": "dataExec",
         "type": "\"string\""
        }
       ],
       "type": "table"
      }
     },
     "output_type": "display_data"
    }
   ],
   "source": [
    "#Relatório de cargas\n",
    "df_table = spark.read.table('stage.ctrl_carga')\n",
    "df_table.display()"
   ]
  }
 ],
 "metadata": {
  "application/vnd.databricks.v1+notebook": {
   "dashboards": [],
   "language": "python",
   "notebookMetadata": {
    "mostRecentlyExecutedCommandWithImplicitDF": {
     "commandId": 1662595354750100,
     "dataframes": [
      "_sqldf"
     ]
    },
    "pythonIndentUnit": 2
   },
   "notebookName": "RelatórioCargasDatabricks",
   "notebookOrigID": 2470808106854332,
   "widgets": {}
  }
 },
 "nbformat": 4,
 "nbformat_minor": 0
}
